{
 "cells": [
  {
   "cell_type": "code",
   "execution_count": 1,
   "metadata": {},
   "outputs": [],
   "source": [
    "%config InlineBackend.figure_format='retina'\n",
    "\n",
    "import calendar\n",
    "import numpy as np\n",
    "import pandas as pd\n",
    "import matplotlib.pyplot as plt\n",
    "from matplotlib import rc, rcParams, ticker\n",
    "\n",
    "from sklearn.neural_network import MLPRegressor\n",
    "from sklearn.model_selection import train_test_split  \n",
    "from sklearn.preprocessing import StandardScaler"
   ]
  },
  {
   "cell_type": "code",
   "execution_count": 2,
   "metadata": {},
   "outputs": [
    {
     "data": {
      "text/html": [
       "<div>\n",
       "<style scoped>\n",
       "    .dataframe tbody tr th:only-of-type {\n",
       "        vertical-align: middle;\n",
       "    }\n",
       "\n",
       "    .dataframe tbody tr th {\n",
       "        vertical-align: top;\n",
       "    }\n",
       "\n",
       "    .dataframe thead th {\n",
       "        text-align: right;\n",
       "    }\n",
       "</style>\n",
       "<table border=\"1\" class=\"dataframe\">\n",
       "  <thead>\n",
       "    <tr style=\"text-align: right;\">\n",
       "      <th></th>\n",
       "      <th>COUNTYFP</th>\n",
       "      <th>STATE</th>\n",
       "      <th>POPESTIMATE2019</th>\n",
       "      <th>NEVER</th>\n",
       "      <th>RARELY</th>\n",
       "      <th>SOMETIMES</th>\n",
       "      <th>FREQUENTLY</th>\n",
       "      <th>ALWAYS</th>\n",
       "      <th>deaths_dec</th>\n",
       "      <th>cases_dec</th>\n",
       "      <th>...</th>\n",
       "      <th>cases_jul</th>\n",
       "      <th>deaths_jul</th>\n",
       "      <th>cases_aug</th>\n",
       "      <th>deaths_aug</th>\n",
       "      <th>cases_sep</th>\n",
       "      <th>deaths_sep</th>\n",
       "      <th>cases_oct</th>\n",
       "      <th>deaths_oct</th>\n",
       "      <th>cases_nov</th>\n",
       "      <th>deaths_nov</th>\n",
       "    </tr>\n",
       "  </thead>\n",
       "  <tbody>\n",
       "    <tr>\n",
       "      <th>0</th>\n",
       "      <td>1001</td>\n",
       "      <td>1</td>\n",
       "      <td>55869</td>\n",
       "      <td>0.053</td>\n",
       "      <td>0.074</td>\n",
       "      <td>0.134</td>\n",
       "      <td>0.295</td>\n",
       "      <td>0.444</td>\n",
       "      <td>1355.0</td>\n",
       "      <td>108652</td>\n",
       "      <td>...</td>\n",
       "      <td>24241.0</td>\n",
       "      <td>551.0</td>\n",
       "      <td>38807.0</td>\n",
       "      <td>699.0</td>\n",
       "      <td>48577.0</td>\n",
       "      <td>733.0</td>\n",
       "      <td>60844.0</td>\n",
       "      <td>893.0</td>\n",
       "      <td>73997.0</td>\n",
       "      <td>1072.0</td>\n",
       "    </tr>\n",
       "    <tr>\n",
       "      <th>1</th>\n",
       "      <td>1003</td>\n",
       "      <td>1</td>\n",
       "      <td>223234</td>\n",
       "      <td>0.083</td>\n",
       "      <td>0.059</td>\n",
       "      <td>0.098</td>\n",
       "      <td>0.323</td>\n",
       "      <td>0.436</td>\n",
       "      <td>4502.0</td>\n",
       "      <td>348455</td>\n",
       "      <td>...</td>\n",
       "      <td>54475.0</td>\n",
       "      <td>440.0</td>\n",
       "      <td>120283.0</td>\n",
       "      <td>981.0</td>\n",
       "      <td>150651.0</td>\n",
       "      <td>1425.0</td>\n",
       "      <td>197611.0</td>\n",
       "      <td>1996.0</td>\n",
       "      <td>233249.0</td>\n",
       "      <td>2550.0</td>\n",
       "    </tr>\n",
       "    <tr>\n",
       "      <th>2</th>\n",
       "      <td>1005</td>\n",
       "      <td>1</td>\n",
       "      <td>24686</td>\n",
       "      <td>0.067</td>\n",
       "      <td>0.121</td>\n",
       "      <td>0.120</td>\n",
       "      <td>0.201</td>\n",
       "      <td>0.491</td>\n",
       "      <td>931.0</td>\n",
       "      <td>40753</td>\n",
       "      <td>...</td>\n",
       "      <td>14161.0</td>\n",
       "      <td>92.0</td>\n",
       "      <td>20859.0</td>\n",
       "      <td>189.0</td>\n",
       "      <td>24539.0</td>\n",
       "      <td>210.0</td>\n",
       "      <td>30228.0</td>\n",
       "      <td>265.0</td>\n",
       "      <td>33813.0</td>\n",
       "      <td>285.0</td>\n",
       "    </tr>\n",
       "    <tr>\n",
       "      <th>3</th>\n",
       "      <td>1007</td>\n",
       "      <td>1</td>\n",
       "      <td>22394</td>\n",
       "      <td>0.020</td>\n",
       "      <td>0.034</td>\n",
       "      <td>0.096</td>\n",
       "      <td>0.278</td>\n",
       "      <td>0.572</td>\n",
       "      <td>1244.0</td>\n",
       "      <td>47009</td>\n",
       "      <td>...</td>\n",
       "      <td>7961.0</td>\n",
       "      <td>49.0</td>\n",
       "      <td>14745.0</td>\n",
       "      <td>168.0</td>\n",
       "      <td>18402.0</td>\n",
       "      <td>281.0</td>\n",
       "      <td>23833.0</td>\n",
       "      <td>393.0</td>\n",
       "      <td>30545.0</td>\n",
       "      <td>498.0</td>\n",
       "    </tr>\n",
       "    <tr>\n",
       "      <th>4</th>\n",
       "      <td>1009</td>\n",
       "      <td>1</td>\n",
       "      <td>57826</td>\n",
       "      <td>0.053</td>\n",
       "      <td>0.114</td>\n",
       "      <td>0.180</td>\n",
       "      <td>0.194</td>\n",
       "      <td>0.459</td>\n",
       "      <td>1590.0</td>\n",
       "      <td>121270</td>\n",
       "      <td>...</td>\n",
       "      <td>13625.0</td>\n",
       "      <td>37.0</td>\n",
       "      <td>31781.0</td>\n",
       "      <td>166.0</td>\n",
       "      <td>44569.0</td>\n",
       "      <td>397.0</td>\n",
       "      <td>56017.0</td>\n",
       "      <td>639.0</td>\n",
       "      <td>76472.0</td>\n",
       "      <td>981.0</td>\n",
       "    </tr>\n",
       "  </tbody>\n",
       "</table>\n",
       "<p>5 rows × 32 columns</p>\n",
       "</div>"
      ],
      "text/plain": [
       "   COUNTYFP  STATE  POPESTIMATE2019  NEVER  RARELY  SOMETIMES  FREQUENTLY  \\\n",
       "0      1001      1            55869  0.053   0.074      0.134       0.295   \n",
       "1      1003      1           223234  0.083   0.059      0.098       0.323   \n",
       "2      1005      1            24686  0.067   0.121      0.120       0.201   \n",
       "3      1007      1            22394  0.020   0.034      0.096       0.278   \n",
       "4      1009      1            57826  0.053   0.114      0.180       0.194   \n",
       "\n",
       "   ALWAYS  deaths_dec  cases_dec  ...  cases_jul  deaths_jul  cases_aug  \\\n",
       "0   0.444      1355.0     108652  ...    24241.0       551.0    38807.0   \n",
       "1   0.436      4502.0     348455  ...    54475.0       440.0   120283.0   \n",
       "2   0.491       931.0      40753  ...    14161.0        92.0    20859.0   \n",
       "3   0.572      1244.0      47009  ...     7961.0        49.0    14745.0   \n",
       "4   0.459      1590.0     121270  ...    13625.0        37.0    31781.0   \n",
       "\n",
       "   deaths_aug  cases_sep  deaths_sep  cases_oct  deaths_oct  cases_nov  \\\n",
       "0       699.0    48577.0       733.0    60844.0       893.0    73997.0   \n",
       "1       981.0   150651.0      1425.0   197611.0      1996.0   233249.0   \n",
       "2       189.0    24539.0       210.0    30228.0       265.0    33813.0   \n",
       "3       168.0    18402.0       281.0    23833.0       393.0    30545.0   \n",
       "4       166.0    44569.0       397.0    56017.0       639.0    76472.0   \n",
       "\n",
       "   deaths_nov  \n",
       "0      1072.0  \n",
       "1      2550.0  \n",
       "2       285.0  \n",
       "3       498.0  \n",
       "4       981.0  \n",
       "\n",
       "[5 rows x 32 columns]"
      ]
     },
     "execution_count": 2,
     "metadata": {},
     "output_type": "execute_result"
    }
   ],
   "source": [
    "all_data = pd.read_csv(\"covid_19_activity.csv\")\n",
    "all_data.head()"
   ]
  },
  {
   "cell_type": "code",
   "execution_count": 8,
   "metadata": {},
   "outputs": [
    {
     "data": {
      "text/plain": [
       "Index(['COUNTYFP', 'STATE', 'POPESTIMATE2019', 'NEVER', 'RARELY', 'SOMETIMES',\n",
       "       'FREQUENTLY', 'ALWAYS', 'deaths_dec', 'cases_dec', 'cases_jan',\n",
       "       'deaths_jan', 'cases_feb', 'deaths_feb', 'cases_mar', 'deaths_mar',\n",
       "       'cases_apr', 'deaths_apr', 'cases_may', 'deaths_may', 'cases_jun',\n",
       "       'deaths_jun', 'cases_jul', 'deaths_jul', 'cases_aug', 'deaths_aug',\n",
       "       'cases_sep', 'deaths_sep', 'cases_oct', 'deaths_oct', 'cases_nov',\n",
       "       'deaths_nov'],\n",
       "      dtype='object')"
      ]
     },
     "execution_count": 8,
     "metadata": {},
     "output_type": "execute_result"
    }
   ],
   "source": [
    "all_data.columns"
   ]
  },
  {
   "cell_type": "code",
   "execution_count": 9,
   "metadata": {},
   "outputs": [],
   "source": [
    "x = all_data[\n",
    "    ['NEVER', 'RARELY', 'SOMETIMES', 'FREQUENTLY', \n",
    "     'cases_jan','deaths_jan', 'cases_feb', 'deaths_feb', 'cases_mar', 'deaths_mar',\n",
    "       'cases_apr', 'deaths_apr', 'cases_may', 'deaths_may', 'cases_jun',\n",
    "       'deaths_jun', 'cases_jul', 'deaths_jul', 'cases_aug', 'deaths_aug',\n",
    "       'cases_sep', 'deaths_sep', 'cases_oct', 'deaths_oct', 'deaths_oct']\n",
    "]\n",
    "# scaler = StandardScaler()\n",
    "# scaler.fit(x)\n",
    "# x = scaler.transform(x)\n",
    "# x"
   ]
  },
  {
   "cell_type": "code",
   "execution_count": 10,
   "metadata": {},
   "outputs": [],
   "source": [
    "y = all_data[['cases_nov']]"
   ]
  },
  {
   "cell_type": "code",
   "execution_count": 11,
   "metadata": {},
   "outputs": [],
   "source": [
    "x_train, x_test, y_train, y_test = train_test_split(x, y, test_size = 0.05)  "
   ]
  },
  {
   "cell_type": "code",
   "execution_count": 12,
   "metadata": {},
   "outputs": [
    {
     "data": {
      "text/plain": [
       "MLPRegressor(activation='relu', alpha=0.0001, batch_size='auto', beta_1=0.9,\n",
       "             beta_2=0.999, early_stopping=False, epsilon=1e-08,\n",
       "             hidden_layer_sizes=(4, 4), learning_rate='constant',\n",
       "             learning_rate_init=0.001, max_fun=15000, max_iter=1000,\n",
       "             momentum=0.9, n_iter_no_change=10, nesterovs_momentum=True,\n",
       "             power_t=0.5, random_state=None, shuffle=True, solver='adam',\n",
       "             tol=0.0001, validation_fraction=0.1, verbose=False,\n",
       "             warm_start=False)"
      ]
     },
     "execution_count": 12,
     "metadata": {},
     "output_type": "execute_result"
    }
   ],
   "source": [
    "mlp = MLPRegressor(hidden_layer_sizes=(4, 4),max_iter=1000)\n",
    "mlp.fit(x_train, y_train.values.ravel())"
   ]
  },
  {
   "cell_type": "code",
   "execution_count": 13,
   "metadata": {},
   "outputs": [
    {
     "data": {
      "text/plain": [
       "0.9715781587749098"
      ]
     },
     "execution_count": 13,
     "metadata": {},
     "output_type": "execute_result"
    }
   ],
   "source": [
    "mlp.score(x_test, y_test)"
   ]
  }
 ],
 "metadata": {
  "kernelspec": {
   "display_name": "Python 3",
   "language": "python",
   "name": "python3"
  },
  "language_info": {
   "codemirror_mode": {
    "name": "ipython",
    "version": 3
   },
   "file_extension": ".py",
   "mimetype": "text/x-python",
   "name": "python",
   "nbconvert_exporter": "python",
   "pygments_lexer": "ipython3",
   "version": "3.8.5"
  }
 },
 "nbformat": 4,
 "nbformat_minor": 4
}
