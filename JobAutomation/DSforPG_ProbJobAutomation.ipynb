{
 "cells": [
  {
   "cell_type": "markdown",
   "metadata": {},
   "source": [
    "# Data Science for Public Good\n",
    "## Zoo Station: Job Automation\n",
    "### Summary of Variables\n",
    "\n",
    "- \"full_dataset\": the entire comma-separated array, loaded into a Pandas dataframe and with its columns separated into the following objects\n",
    "- \"occupation\": strings defining each job we are considering\n",
    "- \"education\": strings describing the education level associated with each occupation\n",
    "- \"n_employed\": integers representing the number of people employed in each occupation (May 2016)\n",
    "- \"average_annual_wage\": float values for the average annual wage earned by workers in each occupation\n",
    "- \"median_annual_wage\": float values for the median annual wage earned by workers in each occupation\n",
    "- \"prob_automation\": float values between 0 and 1 representing the probability of a given occupation becoming automated"
   ]
  },
  {
   "cell_type": "code",
   "execution_count": 37,
   "metadata": {},
   "outputs": [],
   "source": [
    "import pandas as pd\n",
    "import numpy as np\n",
    "import matplotlib.pyplot as plt\n",
    "\n",
    "full_dataset = pd.read_csv('prob_job_automation.csv',delimiter=',')\n",
    "occupation = full_dataset['short occupation']\n",
    "education = full_dataset['education']\n",
    "n_employed = full_dataset['numbEmployed']\n",
    "average_annual_wage = full_dataset['Average annual wage']\n",
    "median_annual_wage = full_dataset['median_ann_wage']\n",
    "prob_automation = full_dataset['probability']"
   ]
  },
  {
   "cell_type": "code",
   "execution_count": null,
   "metadata": {},
   "outputs": [],
   "source": []
  }
 ],
 "metadata": {
  "kernelspec": {
   "display_name": "Python 3",
   "language": "python",
   "name": "python3"
  },
  "language_info": {
   "codemirror_mode": {
    "name": "ipython",
    "version": 3
   },
   "file_extension": ".py",
   "mimetype": "text/x-python",
   "name": "python",
   "nbconvert_exporter": "python",
   "pygments_lexer": "ipython3",
   "version": "3.7.3"
  }
 },
 "nbformat": 4,
 "nbformat_minor": 4
}
